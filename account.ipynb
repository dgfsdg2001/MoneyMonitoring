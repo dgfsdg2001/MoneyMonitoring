{
 "cells": [
  {
   "cell_type": "code",
   "execution_count": 55,
   "metadata": {},
   "outputs": [],
   "source": [
    "from account_book import AccountBook\n",
    "\n",
    "FILEPATH = \"MoneyTracking.xlsx\"\n",
    "account_book = AccountBook(FILEPATH)"
   ]
  },
  {
   "cell_type": "code",
   "execution_count": 61,
   "metadata": {},
   "outputs": [],
   "source": [
    "def get_sheets(currency_name):\n",
    "    income = account_book.income.loc[account_book.income[\"currency\"]==currency_name]\n",
    "    outcome = account_book.spending.loc[account_book.spending[\"currency\"]==currency_name]\n",
    "    transfer_from = account_book.transfer_from.loc[account_book.transfer_from[\"currency\"]==currency_name]\n",
    "    transfer_to = account_book.transfer_to.loc[account_book.transfer_to[\"currency\"]==currency_name]\n",
    "    return {\"income\": income, \"outcome\": outcome, \"transfer_from\": transfer_from, \"transfer_to\": transfer_to}\n",
    "\n",
    "# Get USD only\n",
    "us = get_sheets(\"USD\")"
   ]
  },
  {
   "cell_type": "code",
   "execution_count": 68,
   "metadata": {},
   "outputs": [
    {
     "name": "stdout",
     "output_type": "stream",
     "text": [
      "===============================================================\n",
      "MAKE SURE THE AMOUNTS ARE IDENTICAL TO YOUR BANK ACCOUNT\n",
      "===============================================================\n",
      "Saving: 63500.69\n",
      "Checking: 3813.78\n",
      "Cash: 55.00\n",
      "Credit Card: 76.25\n"
     ]
    }
   ],
   "source": [
    "def get_balance(currency, account):\n",
    "    sheets = get_sheets(currency)\n",
    "    money_in = (\n",
    "        currency[\"income\"].loc[currency[\"income\"][\"account\"] == account][\"amount\"].sum() +\n",
    "        currency[\"transfer_to\"].loc[currency[\"transfer_to\"][\"account\"] == account][\"amount\"].sum()\n",
    "    )\n",
    "    money_out = (\n",
    "        currency[\"outcome\"].loc[currency[\"outcome\"][\"account\"] == account][\"amount\"].sum() +\n",
    "        currency[\"transfer_from\"].loc[currency[\"transfer_from\"][\"account\"] == account][\"amount\"].sum()\n",
    "    )\n",
    "    return float(money_in - money_out)\n",
    "\n",
    "print(\"===============================================================\")\n",
    "print(\"MAKE SURE THE AMOUNTS ARE IDENTICAL TO YOUR BANK ACCOUNT\")\n",
    "print(\"===============================================================\")\n",
    "print(\"Saving: {:.2f}\".format(get_balance(us, \"Saving\")))\n",
    "print(\"Checking: {:.2f}\".format(get_balance(us, \"Checking\")))\n",
    "print(\"Cash: {:.2f}\".format(get_balance(us, \"Cash\")))\n",
    "print(\"Credit Card: {:.2f}\".format(get_balance(us, \"Credit Card\")))"
   ]
  },
  {
   "cell_type": "code",
   "execution_count": 69,
   "metadata": {},
   "outputs": [
    {
     "name": "stdout",
     "output_type": "stream",
     "text": [
      "Credit Card (Evelyn): -122.60\n"
     ]
    }
   ],
   "source": [
    "evelyn_credit_card = -us[\"outcome\"].loc[us[\"outcome\"][\"account\"] == \"Credit Card - Evelyn\"][\"amount\"].sum()\n",
    "print(\"Credit Card (Evelyn): {:.2f}\".format(evelyn_credit_card))"
   ]
  },
  {
   "cell_type": "code",
   "execution_count": 139,
   "metadata": {},
   "outputs": [],
   "source": [
    "def get_spending_df(currency, start_date, end_date):\n",
    "    return currency[\"outcome\"].loc[(currency[\"outcome\"][\"date\"] >= start_date) & (currency[\"outcome\"][\"date\"] <= end_date)]\n",
    "\n",
    "def get_spending(currency, start_date, end_date):\n",
    "    return get_spending_df(currency, start_date, end_date).groupby(\"category\").sum()[\"amount\"].sort_values(ascending=False)\n",
    "\n",
    "def draw_spending_pie_chart(spending):\n",
    "    spending.plot.pie(y=\"amount\", startangle=90, autopct='%1.1f%%')\n",
    "    \n",
    "def get_spending_category_insight(currency, category, start_date, end_date):\n",
    "    df = get_spending_df(us, start_date, end_date)\n",
    "    df = df.loc[df.category == category]\n",
    "    return df.groupby(df.detail.str.lower()).sum()[\"amount\"].sort_values(ascending=False)"
   ]
  },
  {
   "cell_type": "code",
   "execution_count": 149,
   "metadata": {},
   "outputs": [
    {
     "name": "stdout",
     "output_type": "stream",
     "text": [
      "2020 Groceries overview\n",
      "detail\n",
      "target                    285.54\n",
      "sprouts                   274.93\n",
      "h mart                    230.51\n",
      "trader joe's              213.67\n",
      "99 ranch                  165.70\n",
      "costco                    109.60\n",
      "wholefood                  41.87\n",
      "mitsuwa                    26.94\n",
      "trarget                    23.60\n",
      "168 market                 23.11\n",
      "sheng kee barkey           22.19\n",
      "pb hostetter paris bag     18.39\n",
      "the market at north pa      6.24\n",
      "tous les jours              5.50\n",
      "Name: amount, dtype: float64\n"
     ]
    },
    {
     "data": {
      "image/png": "[encoded data removed]",
      "text/plain": [
       "<Figure size 432x288 with 1 Axes>"
      ]
     },
     "metadata": {},
     "output_type": "display_data"
    }
   ],
   "source": [
    "print(\"2020 Groceries overview\")\n",
    "start_date, end_date= \"20200601\", \"20201231\"\n",
    "groceries = get_spending_category_insight(us, \"Groceries\", start_date, end_date)\n",
    "print(groceries)\n",
    "draw_spending_pie_chart(groceries)"
   ]
  },
  {
   "cell_type": "code",
   "execution_count": 141,
   "metadata": {},
   "outputs": [
    {
     "name": "stdout",
     "output_type": "stream",
     "text": [
      "===============================================================\n",
      "2020.08 Spending\n",
      "===============================================================\n",
      "category\n",
      "Pet                         272.27\n",
      "Restaurants & Dining        215.73\n",
      "Home & Utilities            209.34\n",
      "Cash,Check & Misc           205.00\n",
      "Groceries                   121.68\n",
      "Shopping & Entertainment     28.77\n",
      "Name: amount, dtype: float64\n",
      "******************\n",
      "Sub - Groceries\n",
      "******************\n",
      "detail\n",
      "trader joe's        70.50\n",
      "target              32.83\n",
      "sheng kee barkey    11.19\n",
      "99 ranch             7.16\n",
      "Name: amount, dtype: float64\n"
     ]
    }
   ],
   "source": [
    "print(\"===============================================================\")\n",
    "print(\"2020.08 Spending\")\n",
    "print(\"===============================================================\")\n",
    "start_date, end_date= \"20200801\", \"20200831\"\n",
    "print(get_spending(us, start_date, end_date))\n",
    "\n",
    "print(\"******************\")\n",
    "print(\"Sub - Groceries\")\n",
    "print(\"******************\")\n",
    "print(get_spending_category_insight(us, \"Groceries\", start_date, end_date))"
   ]
  },
  {
   "cell_type": "code",
   "execution_count": 142,
   "metadata": {},
   "outputs": [
    {
     "name": "stdout",
     "output_type": "stream",
     "text": [
      "===============================================================\n",
      "2020.07 Spending\n",
      "===============================================================\n",
      "category\n",
      "Cash,Check & Misc           10043.87\n",
      "Home & Utilities             2016.06\n",
      "Groceries                     723.56\n",
      "Pet                           463.55\n",
      "Restaurants & Dining          213.92\n",
      "Transportation                 93.78\n",
      "Shopping & Entertainment       14.99\n",
      "Name: amount, dtype: float64\n",
      "******************\n",
      "Remove tuition\n",
      "******************\n",
      "category\n",
      "Home & Utilities            2016.06\n",
      "Groceries                    723.56\n",
      "Pet                          463.55\n",
      "Restaurants & Dining         213.92\n",
      "Transportation                93.78\n",
      "Cash,Check & Misc             43.87\n",
      "Shopping & Entertainment      14.99\n",
      "Name: amount, dtype: float64\n"
     ]
    },
    {
     "data": {
      "image/png": "[encoded data removed]",
      "text/plain": [
       "<Figure size 432x288 with 1 Axes>"
      ]
     },
     "metadata": {},
     "output_type": "display_data"
    }
   ],
   "source": [
    "print(\"===============================================================\")\n",
    "print(\"2020.07 Spending\")\n",
    "print(\"===============================================================\")\n",
    "start_date, end_date= \"20200701\", \"20200731\"\n",
    "print(get_spending(us, start_date, end_date))\n",
    "\n",
    "print(\"******************\")\n",
    "print(\"Remove tuition\")\n",
    "print(\"******************\")\n",
    "spneding_2020_07 = get_spending_df(us, start_date, end_date)\n",
    "spending_2020_07_remove_tuition = spending_2020_07[spending_2020_07.detail != \"SJSU Tuition\"].groupby(\"category\").sum()[\"amount\"].sort_values(ascending=False)\n",
    "print(spending_2020_07_remove_tuition)\n",
    "\n",
    "draw_spending_pie_chart(spending_2020_07_remove_tuition)"
   ]
  },
  {
   "cell_type": "code",
   "execution_count": 143,
   "metadata": {},
   "outputs": [
    {
     "name": "stdout",
     "output_type": "stream",
     "text": [
      "===============================================================\n",
      "2020.06 Spending\n",
      "===============================================================\n",
      "category\n",
      "Home & Utilities            1974.48\n",
      "Groceries                    602.55\n",
      "Restaurants & Dining         352.09\n",
      "Transportation                21.75\n",
      "Shopping & Entertainment      14.99\n",
      "Name: amount, dtype: float64\n"
     ]
    }
   ],
   "source": [
    "print(\"===============================================================\")\n",
    "print(\"2020.06 Spending\")\n",
    "print(\"===============================================================\")\n",
    "start_date, end_date= \"20200601\", \"20200630\"\n",
    "print(get_spending(us, start_date, end_date))"
   ]
  },
  {
   "cell_type": "code",
   "execution_count": null,
   "metadata": {},
   "outputs": [],
   "source": []
  }
 ],
 "metadata": {
  "kernelspec": {
   "display_name": "Python 3",
   "language": "python",
   "name": "python3"
  },
  "language_info": {
   "codemirror_mode": {
    "name": "ipython",
    "version": 3
   },
   "file_extension": ".py",
   "mimetype": "text/x-python",
   "name": "python",
   "nbconvert_exporter": "python",
   "pygments_lexer": "ipython3",
   "version": "3.8.2"
  }
 },
 "nbformat": 4,
 "nbformat_minor": 4
}
