{
 "cells": [
  {
   "cell_type": "code",
   "execution_count": 1,
   "metadata": {},
   "outputs": [],
   "source": [
    "from account_book import AccountBook\n",
    "\n",
    "FILEPATH = \"MoneyTracking.xlsx\"\n",
    "account_book = AccountBook(FILEPATH)"
   ]
  },
  {
   "cell_type": "code",
   "execution_count": 2,
   "metadata": {},
   "outputs": [],
   "source": [
    "def get_sheets(currency_name):\n",
    "    income = account_book.income.loc[account_book.income[\"currency\"]==currency_name]\n",
    "    outcome = account_book.spending.loc[account_book.spending[\"currency\"]==currency_name]\n",
    "    transfer_from = account_book.transfer_from.loc[account_book.transfer_from[\"currency\"]==currency_name]\n",
    "    transfer_to = account_book.transfer_to.loc[account_book.transfer_to[\"currency\"]==currency_name]\n",
    "    return {\"income\": income, \"outcome\": outcome, \"transfer_from\": transfer_from, \"transfer_to\": transfer_to}\n",
    "\n",
    "# Get USD only\n",
    "us = get_sheets(\"USD\")"
   ]
  },
  {
   "cell_type": "code",
   "execution_count": 3,
   "metadata": {},
   "outputs": [
    {
     "name": "stdout",
     "output_type": "stream",
     "text": [
      "===============================================================\n",
      "MAKE SURE THE AMOUNTS ARE IDENTICAL TO YOUR BANK ACCOUNT\n",
      "===============================================================\n",
      "Saving: 27039.91\n",
      "Checking: 32578.85\n",
      "Cash: 55.00\n",
      "Credit Card: -343.75\n"
     ]
    }
   ],
   "source": [
    "def get_balance(currency, account):\n",
    "    sheets = get_sheets(currency)\n",
    "    money_in = (\n",
    "        currency[\"income\"].loc[currency[\"income\"][\"account\"] == account][\"amount\"].sum() +\n",
    "        currency[\"transfer_to\"].loc[currency[\"transfer_to\"][\"account\"] == account][\"amount\"].sum()\n",
    "    )\n",
    "    money_out = (\n",
    "        currency[\"outcome\"].loc[currency[\"outcome\"][\"account\"] == account][\"amount\"].sum() +\n",
    "        currency[\"transfer_from\"].loc[currency[\"transfer_from\"][\"account\"] == account][\"amount\"].sum()\n",
    "    )\n",
    "    return float(money_in - money_out)\n",
    "\n",
    "print(\"===============================================================\")\n",
    "print(\"MAKE SURE THE AMOUNTS ARE IDENTICAL TO YOUR BANK ACCOUNT\")\n",
    "print(\"===============================================================\")\n",
    "print(\"Saving: {:.2f}\".format(get_balance(us, \"Saving\")))\n",
    "print(\"Checking: {:.2f}\".format(get_balance(us, \"Checking\")))\n",
    "print(\"Cash: {:.2f}\".format(get_balance(us, \"Cash\")))\n",
    "print(\"Credit Card: {:.2f}\".format(get_balance(us, \"Credit Card\")))"
   ]
  },
  {
   "cell_type": "code",
   "execution_count": 4,
   "metadata": {},
   "outputs": [],
   "source": [
    "# pet = us[\"outcome\"]\n",
    "# pet.loc[pet.category == \"Pet\"] "
   ]
  },
  {
   "cell_type": "code",
   "execution_count": 5,
   "metadata": {},
   "outputs": [],
   "source": [
    "# evelyn_credit_card = us[\"outcome\"].loc[us[\"outcome\"][\"account\"] == \"Credit Card - Evelyn\"]\n",
    "# print(\"Credit Card (Evelyn): {:.2f}\".format(-evelyn_credit_card[\"amount\"].sum()))"
   ]
  },
  {
   "cell_type": "code",
   "execution_count": 6,
   "metadata": {},
   "outputs": [],
   "source": [
    "def get_spending_df(currency, start_date, end_date):\n",
    "    return currency[\"outcome\"].loc[(currency[\"outcome\"][\"date\"] >= start_date) & (currency[\"outcome\"][\"date\"] <= end_date)]\n",
    "\n",
    "def get_spending(currency, start_date, end_date):\n",
    "    return get_spending_df(currency, start_date, end_date).groupby(\"category\").sum()[\"amount\"].sort_values(ascending=False)\n",
    "\n",
    "def draw_spending_pie_chart(spending):\n",
    "    spending.plot.pie(y=\"amount\", startangle=90, autopct='%1.1f%%')\n",
    "    \n",
    "def get_spending_category_insight(currency, category, start_date, end_date):\n",
    "    df = get_spending_df(us, start_date, end_date)\n",
    "    df = df.loc[df.category == category]\n",
    "    return df.groupby(df.detail.str.lower()).sum()[\"amount\"].sort_values(ascending=False)"
   ]
  },
  {
   "cell_type": "code",
   "execution_count": 7,
   "metadata": {},
   "outputs": [
    {
     "name": "stdout",
     "output_type": "stream",
     "text": [
      "2020 Groceries overview\n",
      "detail\n",
      "h mart                    377.25\n",
      "sprouts                   338.37\n",
      "target                    316.46\n",
      "trader joe's              277.35\n",
      "costco                    249.11\n",
      "99 ranch                  195.47\n",
      "wholefood                  41.87\n",
      "mitsuwa                    26.94\n",
      "trarget                    23.60\n",
      "168 market                 23.11\n",
      "sheng kee barkey           22.19\n",
      "pb hostetter paris bag     18.39\n",
      "paris bague                16.38\n",
      "the market at north pa      6.24\n",
      "tous les jours              5.50\n",
      "Name: amount, dtype: float64\n"
     ]
    },
    {
     "data": {
      "image/png": "[encoded data removed]",
      "text/plain": [
       "<Figure size 432x288 with 1 Axes>"
      ]
     },
     "metadata": {},
     "output_type": "display_data"
    }
   ],
   "source": [
    "print(\"2020 Groceries overview\")\n",
    "start_date, end_date= \"20200601\", \"20201231\"\n",
    "groceries = get_spending_category_insight(us, \"Groceries\", start_date, end_date)\n",
    "print(groceries)\n",
    "draw_spending_pie_chart(groceries)"
   ]
  },
  {
   "cell_type": "code",
   "execution_count": 11,
   "metadata": {},
   "outputs": [
    {
     "name": "stdout",
     "output_type": "stream",
     "text": [
      "===============================================================\n",
      "2020.09 Spending: 6588.23\n",
      "===============================================================\n",
      "category\n",
      "Cash,Check & Misc       3500.00\n",
      "Home & Utilities        3066.00\n",
      "Groceries                 16.38\n",
      "Restaurants & Dining       5.85\n",
      "Name: amount, dtype: float64\n",
      "******************\n",
      "Sub - Groceries\n",
      "******************\n",
      "detail\n",
      "paris bague    16.38\n",
      "Name: amount, dtype: float64\n",
      "******************\n",
      "Sub - Cash,Check & Misc\n",
      "******************\n",
      "detail\n",
      "to eve's boa checking    3500.0\n",
      "Name: amount, dtype: float64\n"
     ]
    }
   ],
   "source": [
    "start_date, end_date= \"20200901\", \"20200930\"\n",
    "spending = get_spending(us, start_date, end_date)\n",
    "print(\"===============================================================\")\n",
    "print(\"2020.09 Spending: {:.2f}\".format(spending.sum()))\n",
    "print(\"===============================================================\")\n",
    "print(spending)\n",
    "\n",
    "print(\"******************\")\n",
    "print(\"Sub - Groceries\")\n",
    "print(\"******************\")\n",
    "print(get_spending_category_insight(us, \"Groceries\", start_date, end_date))\n",
    "\n",
    "print(\"******************\")\n",
    "print(\"Sub - Cash,Check & Misc\")\n",
    "print(\"******************\")\n",
    "print(get_spending_category_insight(us, \"Cash,Check & Misc\", start_date, end_date))"
   ]
  },
  {
   "cell_type": "code",
   "execution_count": 10,
   "metadata": {},
   "outputs": [
    {
     "name": "stdout",
     "output_type": "stream",
     "text": [
      "===============================================================\n",
      "2020.08 Spending: 5296.25\n",
      "===============================================================\n",
      "category\n",
      "Home & Utilities            3196.61\n",
      "Pet                          596.15\n",
      "Groceries                    595.74\n",
      "Shopping & Entertainment     340.62\n",
      "Restaurants & Dining         300.60\n",
      "Cash,Check & Misc            208.88\n",
      "Transportation                57.65\n",
      "Name: amount, dtype: float64\n",
      "******************\n",
      "Sub - Groceries\n",
      "******************\n",
      "detail\n",
      "h mart              146.74\n",
      "costco              139.51\n",
      "trader joe's        134.18\n",
      "target               63.75\n",
      "sprouts              63.44\n",
      "99 ranch             36.93\n",
      "sheng kee barkey     11.19\n",
      "Name: amount, dtype: float64\n"
     ]
    }
   ],
   "source": [
    "start_date, end_date= \"20200801\", \"20200831\"\n",
    "spending = get_spending(us, start_date, end_date)\n",
    "print(\"===============================================================\")\n",
    "print(\"2020.08 Spending: {:.2f}\".format(spending.sum()))\n",
    "print(\"===============================================================\")\n",
    "print(spending)\n",
    "\n",
    "print(\"******************\")\n",
    "print(\"Sub - Groceries\")\n",
    "print(\"******************\")\n",
    "print(get_spending_category_insight(us, \"Groceries\", start_date, end_date))"
   ]
  },
  {
   "cell_type": "code",
   "execution_count": 9,
   "metadata": {},
   "outputs": [
    {
     "data": {
      "text/html": [
       "<div>\n",
       "<style scoped>\n",
       "    .dataframe tbody tr th:only-of-type {\n",
       "        vertical-align: middle;\n",
       "    }\n",
       "\n",
       "    .dataframe tbody tr th {\n",
       "        vertical-align: top;\n",
       "    }\n",
       "\n",
       "    .dataframe thead th {\n",
       "        text-align: right;\n",
       "    }\n",
       "</style>\n",
       "<table border=\"1\" class=\"dataframe\">\n",
       "  <thead>\n",
       "    <tr style=\"text-align: right;\">\n",
       "      <th></th>\n",
       "      <th>date</th>\n",
       "      <th>currency</th>\n",
       "      <th>bank</th>\n",
       "      <th>account</th>\n",
       "      <th>amount</th>\n",
       "      <th>category</th>\n",
       "      <th>detail</th>\n",
       "      <th>note</th>\n",
       "      <th>credit_card</th>\n",
       "      <th>Unnamed: 9</th>\n",
       "    </tr>\n",
       "  </thead>\n",
       "  <tbody>\n",
       "    <tr>\n",
       "      <th>100</th>\n",
       "      <td>2020-08-01</td>\n",
       "      <td>USD</td>\n",
       "      <td>Bank of America</td>\n",
       "      <td>Credit Card</td>\n",
       "      <td>35.59</td>\n",
       "      <td>Restaurants &amp; Dining</td>\n",
       "      <td>Boiling Point</td>\n",
       "      <td>NaN</td>\n",
       "      <td>Bank of America Cash Rewards World Master Card...</td>\n",
       "      <td>NaN</td>\n",
       "    </tr>\n",
       "    <tr>\n",
       "      <th>107</th>\n",
       "      <td>2020-08-04</td>\n",
       "      <td>USD</td>\n",
       "      <td>Bank of America</td>\n",
       "      <td>Credit Card</td>\n",
       "      <td>37.44</td>\n",
       "      <td>Restaurants &amp; Dining</td>\n",
       "      <td>Taiwan Shih</td>\n",
       "      <td>NaN</td>\n",
       "      <td>Bank of America Cash Rewards World Master Card...</td>\n",
       "      <td>NaN</td>\n",
       "    </tr>\n",
       "    <tr>\n",
       "      <th>110</th>\n",
       "      <td>2020-08-07</td>\n",
       "      <td>USD</td>\n",
       "      <td>Bank of America</td>\n",
       "      <td>Credit Card</td>\n",
       "      <td>43.87</td>\n",
       "      <td>Restaurants &amp; Dining</td>\n",
       "      <td>Taiwan Shih</td>\n",
       "      <td>NaN</td>\n",
       "      <td>Bank of America Cash Rewards World Master Card...</td>\n",
       "      <td>me, Evelyn and Mendy</td>\n",
       "    </tr>\n",
       "    <tr>\n",
       "      <th>111</th>\n",
       "      <td>2020-08-07</td>\n",
       "      <td>USD</td>\n",
       "      <td>Bank of America</td>\n",
       "      <td>Credit Card</td>\n",
       "      <td>31.43</td>\n",
       "      <td>Restaurants &amp; Dining</td>\n",
       "      <td>Taiwan Shih</td>\n",
       "      <td>NaN</td>\n",
       "      <td>Bank of America Cash Rewards World Master Card...</td>\n",
       "      <td>NaN</td>\n",
       "    </tr>\n",
       "    <tr>\n",
       "      <th>113</th>\n",
       "      <td>2020-08-08</td>\n",
       "      <td>USD</td>\n",
       "      <td>Bank of America</td>\n",
       "      <td>Credit Card</td>\n",
       "      <td>22.30</td>\n",
       "      <td>Restaurants &amp; Dining</td>\n",
       "      <td>Tea Spoon</td>\n",
       "      <td>NaN</td>\n",
       "      <td>Bank of America Cash Rewards World Master Card...</td>\n",
       "      <td>NaN</td>\n",
       "    </tr>\n",
       "    <tr>\n",
       "      <th>116</th>\n",
       "      <td>2020-08-09</td>\n",
       "      <td>USD</td>\n",
       "      <td>Bank of America</td>\n",
       "      <td>Credit Card</td>\n",
       "      <td>45.10</td>\n",
       "      <td>Restaurants &amp; Dining</td>\n",
       "      <td>Boiling Point</td>\n",
       "      <td>NaN</td>\n",
       "      <td>Bank of America Cash Rewards World Master Card...</td>\n",
       "      <td>Doordash</td>\n",
       "    </tr>\n",
       "    <tr>\n",
       "      <th>134</th>\n",
       "      <td>2020-08-18</td>\n",
       "      <td>USD</td>\n",
       "      <td>Bank of America</td>\n",
       "      <td>Credit Card</td>\n",
       "      <td>2.00</td>\n",
       "      <td>Restaurants &amp; Dining</td>\n",
       "      <td>Vending machine</td>\n",
       "      <td>NaN</td>\n",
       "      <td>NaN</td>\n",
       "      <td>NaN</td>\n",
       "    </tr>\n",
       "    <tr>\n",
       "      <th>139</th>\n",
       "      <td>2020-08-20</td>\n",
       "      <td>USD</td>\n",
       "      <td>Bank of America</td>\n",
       "      <td>Checking</td>\n",
       "      <td>2.40</td>\n",
       "      <td>Restaurants &amp; Dining</td>\n",
       "      <td>Starbucks</td>\n",
       "      <td>NaN</td>\n",
       "      <td>NaN</td>\n",
       "      <td>Venmo to Jaspher</td>\n",
       "    </tr>\n",
       "    <tr>\n",
       "      <th>146</th>\n",
       "      <td>2020-08-22</td>\n",
       "      <td>USD</td>\n",
       "      <td>Bank of America</td>\n",
       "      <td>Credit Card</td>\n",
       "      <td>74.62</td>\n",
       "      <td>Restaurants &amp; Dining</td>\n",
       "      <td>Easterly</td>\n",
       "      <td>NaN</td>\n",
       "      <td>Bank of America Cash Rewards World Master Card...</td>\n",
       "      <td>with Mendy and Ben</td>\n",
       "    </tr>\n",
       "  </tbody>\n",
       "</table>\n",
       "</div>"
      ],
      "text/plain": [
       "          date currency             bank      account  amount  \\\n",
       "100 2020-08-01      USD  Bank of America  Credit Card   35.59   \n",
       "107 2020-08-04      USD  Bank of America  Credit Card   37.44   \n",
       "110 2020-08-07      USD  Bank of America  Credit Card   43.87   \n",
       "111 2020-08-07      USD  Bank of America  Credit Card   31.43   \n",
       "113 2020-08-08      USD  Bank of America  Credit Card   22.30   \n",
       "116 2020-08-09      USD  Bank of America  Credit Card   45.10   \n",
       "134 2020-08-18      USD  Bank of America  Credit Card    2.00   \n",
       "139 2020-08-20      USD  Bank of America     Checking    2.40   \n",
       "146 2020-08-22      USD  Bank of America  Credit Card   74.62   \n",
       "\n",
       "                 category           detail note  \\\n",
       "100  Restaurants & Dining    Boiling Point  NaN   \n",
       "107  Restaurants & Dining      Taiwan Shih  NaN   \n",
       "110  Restaurants & Dining      Taiwan Shih  NaN   \n",
       "111  Restaurants & Dining      Taiwan Shih  NaN   \n",
       "113  Restaurants & Dining        Tea Spoon  NaN   \n",
       "116  Restaurants & Dining    Boiling Point  NaN   \n",
       "134  Restaurants & Dining  Vending machine  NaN   \n",
       "139  Restaurants & Dining        Starbucks  NaN   \n",
       "146  Restaurants & Dining         Easterly  NaN   \n",
       "\n",
       "                                           credit_card            Unnamed: 9  \n",
       "100  Bank of America Cash Rewards World Master Card...                   NaN  \n",
       "107  Bank of America Cash Rewards World Master Card...                   NaN  \n",
       "110  Bank of America Cash Rewards World Master Card...  me, Evelyn and Mendy  \n",
       "111  Bank of America Cash Rewards World Master Card...                   NaN  \n",
       "113  Bank of America Cash Rewards World Master Card...                   NaN  \n",
       "116  Bank of America Cash Rewards World Master Card...              Doordash  \n",
       "134                                                NaN                   NaN  \n",
       "139                                                NaN      Venmo to Jaspher  \n",
       "146  Bank of America Cash Rewards World Master Card...    with Mendy and Ben  "
      ]
     },
     "execution_count": 9,
     "metadata": {},
     "output_type": "execute_result"
    }
   ],
   "source": [
    "food = get_spending_df(us, start_date, end_date)\n",
    "food = food.loc[food.category == \"Restaurants & Dining\"]\n",
    "food"
   ]
  },
  {
   "cell_type": "code",
   "execution_count": 10,
   "metadata": {},
   "outputs": [
    {
     "name": "stdout",
     "output_type": "stream",
     "text": [
      "===============================================================\n",
      "2020.07 Spending: 13928.87\n",
      "===============================================================\n",
      "category\n",
      "Cash,Check & Misc           10043.87\n",
      "Home & Utilities             2328.43\n",
      "Groceries                     723.56\n",
      "Pet                           510.32\n",
      "Restaurants & Dining          213.92\n",
      "Transportation                 93.78\n",
      "Shopping & Entertainment       14.99\n",
      "Name: amount, dtype: float64\n",
      "******************\n",
      "Remove tuition\n",
      "******************\n",
      "category\n",
      "Home & Utilities            2328.43\n",
      "Groceries                    723.56\n",
      "Pet                          510.32\n",
      "Restaurants & Dining         213.92\n",
      "Transportation                93.78\n",
      "Cash,Check & Misc             43.87\n",
      "Shopping & Entertainment      14.99\n",
      "Name: amount, dtype: float64\n"
     ]
    },
    {
     "data": {
      "image/png": "[encoded data removed]",
      "text/plain": [
       "<Figure size 432x288 with 1 Axes>"
      ]
     },
     "metadata": {},
     "output_type": "display_data"
    }
   ],
   "source": [
    "start_date, end_date= \"20200701\", \"20200731\"\n",
    "spending = get_spending(us, start_date, end_date)\n",
    "print(\"===============================================================\")\n",
    "print(\"2020.07 Spending: {:.2f}\".format(spending.sum()))\n",
    "print(\"===============================================================\")\n",
    "print(spending)\n",
    "\n",
    "print(\"******************\")\n",
    "print(\"Remove tuition\")\n",
    "print(\"******************\")\n",
    "spneding_2020_07 = get_spending_df(us, start_date, end_date)\n",
    "spending_2020_07_remove_tuition = spneding_2020_07[spneding_2020_07.detail != \"SJSU Tuition\"].groupby(\"category\").sum()[\"amount\"].sort_values(ascending=False)\n",
    "print(spending_2020_07_remove_tuition)\n",
    "\n",
    "draw_spending_pie_chart(spending_2020_07_remove_tuition)"
   ]
  },
  {
   "cell_type": "code",
   "execution_count": 11,
   "metadata": {},
   "outputs": [
    {
     "name": "stdout",
     "output_type": "stream",
     "text": [
      "===============================================================\n",
      "2020.06 Spending: 2965.86\n",
      "===============================================================\n",
      "category\n",
      "Home & Utilities            1974.48\n",
      "Groceries                    602.55\n",
      "Restaurants & Dining         352.09\n",
      "Transportation                21.75\n",
      "Shopping & Entertainment      14.99\n",
      "Name: amount, dtype: float64\n"
     ]
    }
   ],
   "source": [
    "start_date, end_date= \"20200601\", \"20200630\"\n",
    "spending = get_spending(us, start_date, end_date)\n",
    "print(\"===============================================================\")\n",
    "print(\"2020.06 Spending: {:.2f}\".format(spending.sum()))\n",
    "print(\"===============================================================\")\n",
    "print(spending)"
   ]
  },
  {
   "cell_type": "code",
   "execution_count": null,
   "metadata": {},
   "outputs": [],
   "source": []
  }
 ],
 "metadata": {
  "kernelspec": {
   "display_name": "Python 3",
   "language": "python",
   "name": "python3"
  },
  "language_info": {
   "codemirror_mode": {
    "name": "ipython",
    "version": 3
   },
   "file_extension": ".py",
   "mimetype": "text/x-python",
   "name": "python",
   "nbconvert_exporter": "python",
   "pygments_lexer": "ipython3",
   "version": "3.8.2"
  }
 },
 "nbformat": 4,
 "nbformat_minor": 4
}
